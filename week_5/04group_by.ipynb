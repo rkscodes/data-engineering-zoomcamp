{
 "cells": [
  {
   "cell_type": "code",
   "execution_count": 1,
   "id": "76faf319-8f6a-4c32-923e-69f2012da9b5",
   "metadata": {},
   "outputs": [
    {
     "name": "stderr",
     "output_type": "stream",
     "text": [
      "Setting default log level to \"WARN\".\n",
      "To adjust logging level use sc.setLogLevel(newLevel). For SparkR, use setLogLevel(newLevel).\n"
     ]
    },
    {
     "name": "stdout",
     "output_type": "stream",
     "text": [
      "23/03/07 10:26:47 WARN NativeCodeLoader: Unable to load native-hadoop library for your platform... using builtin-java classes where applicable\n"
     ]
    }
   ],
   "source": [
    "import pyspark\n",
    "from pyspark.sql import SparkSession\n",
    "\n",
    "spark = SparkSession.builder \\\n",
    "    .master(\"local[*]\") \\\n",
    "    .appName('test') \\\n",
    "    .getOrCreate()"
   ]
  },
  {
   "cell_type": "code",
   "execution_count": 2,
   "id": "d46062fd-9069-454c-8600-6a920916e691",
   "metadata": {},
   "outputs": [],
   "source": [
    "df_green = spark.read.parquet('data/pq/green/*/*')"
   ]
  },
  {
   "cell_type": "code",
   "execution_count": 3,
   "id": "c7b3f6a8-ab60-44cb-a558-fb43ea0393fc",
   "metadata": {},
   "outputs": [
    {
     "name": "stderr",
     "output_type": "stream",
     "text": [
      "/opt/homebrew/Cellar/apache-spark/3.3.2/libexec/python/pyspark/sql/dataframe.py:229: FutureWarning: Deprecated in 2.0, use createOrReplaceTempView instead.\n",
      "  warnings.warn(\"Deprecated in 2.0, use createOrReplaceTempView instead.\", FutureWarning)\n"
     ]
    }
   ],
   "source": [
    "df_green.registerTempTable('green')"
   ]
  },
  {
   "cell_type": "code",
   "execution_count": 8,
   "id": "71027c26-91e3-43e8-854e-4ceba5246827",
   "metadata": {},
   "outputs": [],
   "source": [
    "df_green_revenue = spark.sql(\"\"\"\n",
    "SELECT \n",
    "    date_trunc('hour', lpep_pickup_datetime) AS hour, \n",
    "    PULocationID AS zone,\n",
    "\n",
    "    SUM(total_amount) AS amount,\n",
    "    COUNT(1) AS number_records\n",
    "FROM\n",
    "    green\n",
    "WHERE\n",
    "    lpep_pickup_datetime >= '2020-01-01 00:00:00'\n",
    "GROUP BY\n",
    "    1, 2\n",
    "\"\"\")"
   ]
  },
  {
   "cell_type": "code",
   "execution_count": 5,
   "id": "d4b18cd9-b506-4503-a671-1f0870ca3bae",
   "metadata": {},
   "outputs": [
    {
     "name": "stderr",
     "output_type": "stream",
     "text": [
      "[Stage 1:============================================>              (6 + 2) / 8]\r"
     ]
    },
    {
     "name": "stdout",
     "output_type": "stream",
     "text": [
      "23/03/07 09:55:48 WARN MemoryManager: Total allocation exceeds 95.00% (906,992,014 bytes) of heap memory\n",
      "Scaling row group sizes to 96.54% for 7 writers\n",
      "23/03/07 09:55:48 WARN MemoryManager: Total allocation exceeds 95.00% (906,992,014 bytes) of heap memory\n",
      "Scaling row group sizes to 84.47% for 8 writers\n",
      "23/03/07 09:55:49 WARN MemoryManager: Total allocation exceeds 95.00% (906,992,014 bytes) of heap memory\n",
      "Scaling row group sizes to 96.54% for 7 writers\n"
     ]
    },
    {
     "name": "stderr",
     "output_type": "stream",
     "text": [
      "                                                                                \r"
     ]
    }
   ],
   "source": [
    "df_green_revenue \\\n",
    "    .repartition(20) \\\n",
    "    .write.parquet('data/report/revenue/green', mode='overwrite')"
   ]
  },
  {
   "cell_type": "code",
   "execution_count": 5,
   "id": "1e2f427b-8d73-45ac-be9d-c097e22caf54",
   "metadata": {},
   "outputs": [],
   "source": [
    "df_yellow = spark.read.parquet('data/pq/yellow/*/*')\n",
    "df_yellow.registerTempTable('yellow')"
   ]
  },
  {
   "cell_type": "code",
   "execution_count": 6,
   "id": "c187aaa0-0674-44f7-b990-50ee2505b235",
   "metadata": {},
   "outputs": [
    {
     "data": {
      "text/plain": [
       "['VendorID',\n",
       " 'lpep_pickup_datetime',\n",
       " 'lpep_dropoff_datetime',\n",
       " 'store_and_fwd_flag',\n",
       " 'RatecodeID',\n",
       " 'PULocationID',\n",
       " 'DOLocationID',\n",
       " 'passenger_count',\n",
       " 'trip_distance',\n",
       " 'fare_amount',\n",
       " 'extra',\n",
       " 'mta_tax',\n",
       " 'tip_amount',\n",
       " 'tolls_amount',\n",
       " 'ehail_fee',\n",
       " 'improvement_surcharge',\n",
       " 'total_amount',\n",
       " 'payment_type',\n",
       " 'trip_type',\n",
       " 'congestion_surcharge']"
      ]
     },
     "execution_count": 6,
     "metadata": {},
     "output_type": "execute_result"
    }
   ],
   "source": [
    "df_yellow.columns"
   ]
  },
  {
   "cell_type": "code",
   "execution_count": 7,
   "id": "67755fd0-8dd1-4cbf-bb50-2fbe75ebd3f4",
   "metadata": {},
   "outputs": [],
   "source": [
    "df_yellow_revenue = spark.sql(\"\"\"\n",
    "SELECT \n",
    "    date_trunc('hour', lpep_pickup_datetime) AS hour, \n",
    "    PULocationID AS zone,\n",
    "\n",
    "    SUM(total_amount) AS amount,\n",
    "    COUNT(1) AS number_records\n",
    "FROM\n",
    "    yellow\n",
    "WHERE\n",
    "    lpep_pickup_datetime >= '2020-01-01 00:00:00'\n",
    "GROUP BY\n",
    "    1, 2\n",
    "\"\"\")"
   ]
  },
  {
   "cell_type": "code",
   "execution_count": 9,
   "id": "c095e100-0924-4240-a7ff-821fd4237be8",
   "metadata": {},
   "outputs": [
    {
     "name": "stderr",
     "output_type": "stream",
     "text": [
      "                                                                                \r"
     ]
    }
   ],
   "source": [
    "df_yellow_revenue \\\n",
    "    .repartition(20) \\\n",
    "    .write.parquet('data/report/revenue/yellow', mode='overwrite')"
   ]
  },
  {
   "cell_type": "code",
   "execution_count": 9,
   "id": "e858c3ca-ddbd-43c0-bdf7-8388689a1fa7",
   "metadata": {},
   "outputs": [],
   "source": [
    "df_green_revenue_tmp = df_green_revenue \\\n",
    "    .withColumnRenamed('amount', 'green_amount') \\\n",
    "    .withColumnRenamed('number_records', 'green_number_records')\n",
    "\n",
    "df_yellow_revenue_tmp = df_yellow_revenue \\\n",
    "    .withColumnRenamed('amount', 'yellow_amount') \\\n",
    "    .withColumnRenamed('number_records', 'yellow_number_records')"
   ]
  },
  {
   "cell_type": "code",
   "execution_count": 10,
   "id": "522b9c01-5baf-450b-b2ea-61be6d5bbdfc",
   "metadata": {},
   "outputs": [],
   "source": [
    "df_join = df_green_revenue_tmp.join(df_yellow_revenue_tmp, on=['hour', 'zone'], how='outer')"
   ]
  },
  {
   "cell_type": "code",
   "execution_count": 12,
   "id": "06aa1897-3e98-4437-86ce-0236de04abdb",
   "metadata": {},
   "outputs": [
    {
     "name": "stderr",
     "output_type": "stream",
     "text": [
      "[Stage 15:=============================================>           (8 + 2) / 10]\r"
     ]
    },
    {
     "name": "stdout",
     "output_type": "stream",
     "text": [
      "23/03/07 09:56:33 WARN MemoryManager: Total allocation exceeds 95.00% (906,992,014 bytes) of heap memory\n",
      "Scaling row group sizes to 96.54% for 7 writers\n",
      "23/03/07 09:56:33 WARN MemoryManager: Total allocation exceeds 95.00% (906,992,014 bytes) of heap memory\n",
      "Scaling row group sizes to 84.47% for 8 writers\n",
      "23/03/07 09:56:33 WARN MemoryManager: Total allocation exceeds 95.00% (906,992,014 bytes) of heap memory\n",
      "Scaling row group sizes to 96.54% for 7 writers\n"
     ]
    },
    {
     "name": "stderr",
     "output_type": "stream",
     "text": [
      "                                                                                \r"
     ]
    }
   ],
   "source": [
    "df_join.write.parquet('data/report/revenue/total', mode='overwrite')"
   ]
  },
  {
   "cell_type": "code",
   "execution_count": 11,
   "id": "b6648a61-8cfe-4e5e-bfd3-9fdd4b11b308",
   "metadata": {},
   "outputs": [],
   "source": [
    "df_join = spark.read.parquet('data/report/revenue/total')"
   ]
  },
  {
   "cell_type": "code",
   "execution_count": 12,
   "id": "c459b522-5c6c-4476-b5e6-f87683d49f49",
   "metadata": {},
   "outputs": [
    {
     "name": "stdout",
     "output_type": "stream",
     "text": [
      "+-------------------+----+------------------+--------------------+------------------+---------------------+\n",
      "|               hour|zone|      green_amount|green_number_records|     yellow_amount|yellow_number_records|\n",
      "+-------------------+----+------------------+--------------------+------------------+---------------------+\n",
      "|2020-01-01 00:00:00|  24|              87.6|                   3|              null|                 null|\n",
      "|2020-01-01 00:00:00|  40|168.98000000000002|                   8|              null|                 null|\n",
      "|2020-01-01 00:00:00|  49|266.76000000000005|                  14|              null|                 null|\n",
      "|2020-01-01 00:00:00|  92|             80.72|                   3|              null|                 null|\n",
      "|2020-01-01 00:00:00| 153|              25.0|                   1|              null|                 null|\n",
      "|2020-01-01 00:00:00| 160|              11.3|                   1|              null|                 null|\n",
      "|2020-01-01 00:00:00| 166| 504.0100000000001|                  33|              null|                 null|\n",
      "|2020-01-01 00:00:00| 192|              12.3|                   1|              null|                 null|\n",
      "|2020-01-01 00:00:00| 215| 546.3600000000001|                  18|              null|                 null|\n",
      "|2020-01-01 00:00:00| 250|            114.17|                   6|              null|                 null|\n",
      "|2020-01-01 00:00:00| 259|            131.24|                   7|              null|                 null|\n",
      "|2020-01-01 01:00:00|   1|              null|                null| 271396.4999999876|                14774|\n",
      "|2020-01-01 01:00:00|   3|46.230000000000004|                   2|461.95000000000005|                   10|\n",
      "|2020-01-01 01:00:00|  16| 72.96000000000001|                   2|              null|                 null|\n",
      "|2020-01-01 01:00:00|  25| 307.7900000000001|                  16|              null|                 null|\n",
      "|2020-01-01 01:00:00|  36|            192.41|                   9|              null|                 null|\n",
      "|2020-01-01 01:00:00|  42| 528.8100000000003|                  32|              null|                 null|\n",
      "|2020-01-01 01:00:00|  43|             21.76|                   2|              null|                 null|\n",
      "|2020-01-01 01:00:00|  62|             143.8|                   6|              null|                 null|\n",
      "|2020-01-01 01:00:00|  66|326.46000000000015|                  17|              null|                 null|\n",
      "+-------------------+----+------------------+--------------------+------------------+---------------------+\n",
      "only showing top 20 rows\n",
      "\n"
     ]
    }
   ],
   "source": [
    "df_join.show()"
   ]
  },
  {
   "cell_type": "code",
   "execution_count": null,
   "id": "992c2ceb-73b0-4f2b-9ded-85e36c141fdb",
   "metadata": {},
   "outputs": [],
   "source": [
    "!wget https://s3.amazonaws.com/nyc-tlc/misc/taxi+_zone_lookup.csv"
   ]
  },
  {
   "cell_type": "code",
   "execution_count": 13,
   "id": "af09d35b-0dd1-4bd9-bffc-08da4c3cdcc4",
   "metadata": {},
   "outputs": [],
   "source": [
    "df_zones = spark.read \\\n",
    "    .option(\"header\", \"true\") \\\n",
    "    .csv('taxi+_zone_lookup.csv')"
   ]
  },
  {
   "cell_type": "code",
   "execution_count": 15,
   "id": "08b6d0b0-6be3-4d19-ae83-24571dcb046e",
   "metadata": {},
   "outputs": [],
   "source": [
    "df_zones.write.parquet('zones')"
   ]
  },
  {
   "cell_type": "code",
   "execution_count": 16,
   "id": "ef5f07e2-4c48-4b87-b2e1-24d9a10a2b4e",
   "metadata": {},
   "outputs": [],
   "source": [
    "df_zones = spark.read.parquet('zones/')"
   ]
  },
  {
   "cell_type": "code",
   "execution_count": 18,
   "id": "526b1942-a393-4d55-a496-3fd714c112c7",
   "metadata": {},
   "outputs": [
    {
     "name": "stdout",
     "output_type": "stream",
     "text": [
      "+-------------------+----+------------------+--------------------+------------------+---------------------+\n",
      "|               hour|zone|      green_amount|green_number_records|     yellow_amount|yellow_number_records|\n",
      "+-------------------+----+------------------+--------------------+------------------+---------------------+\n",
      "|2020-01-01 00:00:00|  24|              87.6|                   3|              null|                 null|\n",
      "|2020-01-01 00:00:00|  40|168.98000000000002|                   8|              null|                 null|\n",
      "|2020-01-01 00:00:00|  49|266.76000000000005|                  14|              null|                 null|\n",
      "|2020-01-01 00:00:00|  92|             80.72|                   3|              null|                 null|\n",
      "|2020-01-01 00:00:00| 153|              25.0|                   1|              null|                 null|\n",
      "|2020-01-01 00:00:00| 160|              11.3|                   1|              null|                 null|\n",
      "|2020-01-01 00:00:00| 166| 504.0100000000001|                  33|              null|                 null|\n",
      "|2020-01-01 00:00:00| 192|              12.3|                   1|              null|                 null|\n",
      "|2020-01-01 00:00:00| 215| 546.3600000000001|                  18|              null|                 null|\n",
      "|2020-01-01 00:00:00| 250|            114.17|                   6|              null|                 null|\n",
      "|2020-01-01 00:00:00| 259|            131.24|                   7|              null|                 null|\n",
      "|2020-01-01 01:00:00|   1|              null|                null| 271396.4999999876|                14774|\n",
      "|2020-01-01 01:00:00|   3|46.230000000000004|                   2|461.95000000000005|                   10|\n",
      "|2020-01-01 01:00:00|  16| 72.96000000000001|                   2|              null|                 null|\n",
      "|2020-01-01 01:00:00|  25| 307.7900000000001|                  16|              null|                 null|\n",
      "|2020-01-01 01:00:00|  36|            192.41|                   9|              null|                 null|\n",
      "|2020-01-01 01:00:00|  42| 528.8100000000003|                  32|              null|                 null|\n",
      "|2020-01-01 01:00:00|  43|             21.76|                   2|              null|                 null|\n",
      "|2020-01-01 01:00:00|  62|             143.8|                   6|              null|                 null|\n",
      "|2020-01-01 01:00:00|  66|326.46000000000015|                  17|              null|                 null|\n",
      "+-------------------+----+------------------+--------------------+------------------+---------------------+\n",
      "only showing top 20 rows\n",
      "\n"
     ]
    }
   ],
   "source": [
    "df_join.show()"
   ]
  },
  {
   "cell_type": "code",
   "execution_count": 17,
   "id": "7f8afb63-3f3d-43f0-b5d6-3dea1c41c548",
   "metadata": {},
   "outputs": [
    {
     "name": "stdout",
     "output_type": "stream",
     "text": [
      "+----------+-------------+--------------------+------------+\n",
      "|LocationID|      Borough|                Zone|service_zone|\n",
      "+----------+-------------+--------------------+------------+\n",
      "|         1|          EWR|      Newark Airport|         EWR|\n",
      "|         2|       Queens|         Jamaica Bay|   Boro Zone|\n",
      "|         3|        Bronx|Allerton/Pelham G...|   Boro Zone|\n",
      "|         4|    Manhattan|       Alphabet City| Yellow Zone|\n",
      "|         5|Staten Island|       Arden Heights|   Boro Zone|\n",
      "|         6|Staten Island|Arrochar/Fort Wad...|   Boro Zone|\n",
      "|         7|       Queens|             Astoria|   Boro Zone|\n",
      "|         8|       Queens|        Astoria Park|   Boro Zone|\n",
      "|         9|       Queens|          Auburndale|   Boro Zone|\n",
      "|        10|       Queens|        Baisley Park|   Boro Zone|\n",
      "|        11|     Brooklyn|          Bath Beach|   Boro Zone|\n",
      "|        12|    Manhattan|        Battery Park| Yellow Zone|\n",
      "|        13|    Manhattan|   Battery Park City| Yellow Zone|\n",
      "|        14|     Brooklyn|           Bay Ridge|   Boro Zone|\n",
      "|        15|       Queens|Bay Terrace/Fort ...|   Boro Zone|\n",
      "|        16|       Queens|             Bayside|   Boro Zone|\n",
      "|        17|     Brooklyn|             Bedford|   Boro Zone|\n",
      "|        18|        Bronx|        Bedford Park|   Boro Zone|\n",
      "|        19|       Queens|           Bellerose|   Boro Zone|\n",
      "|        20|        Bronx|             Belmont|   Boro Zone|\n",
      "+----------+-------------+--------------------+------------+\n",
      "only showing top 20 rows\n",
      "\n"
     ]
    }
   ],
   "source": [
    "df_zones.show()"
   ]
  },
  {
   "cell_type": "code",
   "execution_count": 19,
   "id": "00df0272-1f74-4b19-886d-e4d3d432a588",
   "metadata": {},
   "outputs": [],
   "source": [
    "df_result = df_join.join(df_zones, df_join.zone == df_zones.LocationID)"
   ]
  },
  {
   "cell_type": "code",
   "execution_count": 20,
   "id": "686e5fbd-453c-46e9-b9b6-f43655f671b3",
   "metadata": {},
   "outputs": [
    {
     "name": "stdout",
     "output_type": "stream",
     "text": [
      "+-------------------+----+------------------+--------------------+------------------+---------------------+----------+---------+--------------------+------------+\n",
      "|               hour|zone|      green_amount|green_number_records|     yellow_amount|yellow_number_records|LocationID|  Borough|                Zone|service_zone|\n",
      "+-------------------+----+------------------+--------------------+------------------+---------------------+----------+---------+--------------------+------------+\n",
      "|2020-01-01 00:00:00|  24|              87.6|                   3|              null|                 null|        24|Manhattan|        Bloomingdale| Yellow Zone|\n",
      "|2020-01-01 00:00:00|  40|168.98000000000002|                   8|              null|                 null|        40| Brooklyn|     Carroll Gardens|   Boro Zone|\n",
      "|2020-01-01 00:00:00|  49|266.76000000000005|                  14|              null|                 null|        49| Brooklyn|        Clinton Hill|   Boro Zone|\n",
      "|2020-01-01 00:00:00|  92|             80.72|                   3|              null|                 null|        92|   Queens|            Flushing|   Boro Zone|\n",
      "|2020-01-01 00:00:00| 153|              25.0|                   1|              null|                 null|       153|Manhattan|         Marble Hill|   Boro Zone|\n",
      "|2020-01-01 00:00:00| 160|              11.3|                   1|              null|                 null|       160|   Queens|      Middle Village|   Boro Zone|\n",
      "|2020-01-01 00:00:00| 166| 504.0100000000001|                  33|              null|                 null|       166|Manhattan| Morningside Heights|   Boro Zone|\n",
      "|2020-01-01 00:00:00| 192|              12.3|                   1|              null|                 null|       192|   Queens|     Queensboro Hill|   Boro Zone|\n",
      "|2020-01-01 00:00:00| 215| 546.3600000000001|                  18|              null|                 null|       215|   Queens|       South Jamaica|   Boro Zone|\n",
      "|2020-01-01 00:00:00| 250|            114.17|                   6|              null|                 null|       250|    Bronx|Westchester Villa...|   Boro Zone|\n",
      "|2020-01-01 00:00:00| 259|            131.24|                   7|              null|                 null|       259|    Bronx|  Woodlawn/Wakefield|   Boro Zone|\n",
      "|2020-01-01 01:00:00|   1|              null|                null| 271396.4999999876|                14774|         1|      EWR|      Newark Airport|         EWR|\n",
      "|2020-01-01 01:00:00|   3|46.230000000000004|                   2|461.95000000000005|                   10|         3|    Bronx|Allerton/Pelham G...|   Boro Zone|\n",
      "|2020-01-01 01:00:00|  16| 72.96000000000001|                   2|              null|                 null|        16|   Queens|             Bayside|   Boro Zone|\n",
      "|2020-01-01 01:00:00|  25| 307.7900000000001|                  16|              null|                 null|        25| Brooklyn|         Boerum Hill|   Boro Zone|\n",
      "|2020-01-01 01:00:00|  36|            192.41|                   9|              null|                 null|        36| Brooklyn|      Bushwick North|   Boro Zone|\n",
      "|2020-01-01 01:00:00|  42| 528.8100000000003|                  32|              null|                 null|        42|Manhattan|Central Harlem North|   Boro Zone|\n",
      "|2020-01-01 01:00:00|  43|             21.76|                   2|              null|                 null|        43|Manhattan|        Central Park| Yellow Zone|\n",
      "|2020-01-01 01:00:00|  62|             143.8|                   6|              null|                 null|        62| Brooklyn| Crown Heights South|   Boro Zone|\n",
      "|2020-01-01 01:00:00|  66|326.46000000000015|                  17|              null|                 null|        66| Brooklyn|  DUMBO/Vinegar Hill|   Boro Zone|\n",
      "+-------------------+----+------------------+--------------------+------------------+---------------------+----------+---------+--------------------+------------+\n",
      "only showing top 20 rows\n",
      "\n"
     ]
    }
   ],
   "source": [
    "df_result.show()"
   ]
  },
  {
   "cell_type": "code",
   "execution_count": 25,
   "id": "3306b5d6-20b4-4560-8e68-21f1afc5abfe",
   "metadata": {},
   "outputs": [
    {
     "name": "stdout",
     "output_type": "stream",
     "text": [
      "23/03/07 10:34:39 WARN MemoryManager: Total allocation exceeds 95.00% (906,992,014 bytes) of heap memory\n",
      "Scaling row group sizes to 96.54% for 7 writers\n",
      "23/03/07 10:34:39 WARN MemoryManager: Total allocation exceeds 95.00% (906,992,014 bytes) of heap memory\n",
      "Scaling row group sizes to 84.47% for 8 writers\n",
      "23/03/07 10:34:40 WARN MemoryManager: Total allocation exceeds 95.00% (906,992,014 bytes) of heap memory\n",
      "Scaling row group sizes to 96.54% for 7 writers\n"
     ]
    },
    {
     "name": "stderr",
     "output_type": "stream",
     "text": [
      "                                                                                \r"
     ]
    }
   ],
   "source": [
    "df_result.drop('LocationID', 'zone').write.parquet('tmp/revenue-zones')"
   ]
  }
 ],
 "metadata": {
  "kernelspec": {
   "display_name": "Python 3 (ipykernel)",
   "language": "python",
   "name": "python3"
  },
  "language_info": {
   "codemirror_mode": {
    "name": "ipython",
    "version": 3
   },
   "file_extension": ".py",
   "mimetype": "text/x-python",
   "name": "python",
   "nbconvert_exporter": "python",
   "pygments_lexer": "ipython3",
   "version": "3.8.16"
  }
 },
 "nbformat": 4,
 "nbformat_minor": 5
}
