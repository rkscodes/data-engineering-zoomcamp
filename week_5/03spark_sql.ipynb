{
 "cells": [
  {
   "cell_type": "code",
   "execution_count": 1,
   "id": "4d9112e3-c844-4ffc-a7cc-25f69a88cc88",
   "metadata": {},
   "outputs": [
    {
     "name": "stderr",
     "output_type": "stream",
     "text": [
      "Setting default log level to \"WARN\".\n",
      "To adjust logging level use sc.setLogLevel(newLevel). For SparkR, use setLogLevel(newLevel).\n"
     ]
    },
    {
     "name": "stdout",
     "output_type": "stream",
     "text": [
      "23/03/05 18:46:48 WARN NativeCodeLoader: Unable to load native-hadoop library for your platform... using builtin-java classes where applicable\n"
     ]
    }
   ],
   "source": [
    "from pyspark.sql import SparkSession\n",
    "import pyspark\n",
    "\n",
    "spark = SparkSession.builder \\\n",
    "        .master(\"local[*]\") \\\n",
    "        .getOrCreate()\n"
   ]
  },
  {
   "cell_type": "code",
   "execution_count": 2,
   "id": "bd8f0ecd-0108-4ba8-921b-bc5b76009803",
   "metadata": {},
   "outputs": [],
   "source": [
    "df_green = spark.read.parquet('data/pq/green/*/*')"
   ]
  },
  {
   "cell_type": "code",
   "execution_count": 15,
   "id": "1990294d-67f8-4823-be3a-66aa223ff281",
   "metadata": {},
   "outputs": [
    {
     "name": "stdout",
     "output_type": "stream",
     "text": [
      "+--------+-------------------+-------------------+------------------+----------+------------+------------+---------------+-------------+-----------+-----+-------+----------+------------+---------+---------------------+------------+------------+---------+--------------------+\n",
      "|VendorID|    pickup_datetime|   dropoff_datetime|store_and_fwd_flag|RatecodeID|PULocationID|DOLocationID|passenger_count|trip_distance|fare_amount|extra|mta_tax|tip_amount|tolls_amount|ehail_fee|improvement_surcharge|total_amount|payment_type|trip_type|congestion_surcharge|\n",
      "+--------+-------------------+-------------------+------------------+----------+------------+------------+---------------+-------------+-----------+-----+-------+----------+------------+---------+---------------------+------------+------------+---------+--------------------+\n",
      "|       2|2020-01-27 23:23:13|2020-01-27 23:33:22|                 N|         1|         260|         223|              1|         2.98|       11.5|  0.5|    0.5|       3.2|         0.0|     null|                  0.3|        16.0|           1|        1|                 0.0|\n",
      "|    null|2020-01-30 20:30:00|2020-01-30 20:51:00|              null|      null|         238|          47|           null|         7.65|      25.46| 2.75|    0.0|       0.0|         0.0|     null|                  0.3|       28.51|        null|     null|                null|\n",
      "|    null|2020-01-22 18:13:00|2020-01-22 18:32:00|              null|      null|          82|          95|           null|         1.83|      19.06| 2.75|    0.0|       0.0|         0.0|     null|                  0.3|       22.11|        null|     null|                null|\n",
      "|       2|2020-01-04 18:12:24|2020-01-04 18:21:13|                 N|         1|          42|         244|              1|         1.65|        8.0|  0.0|    0.5|       0.0|         0.0|     null|                  0.3|         8.8|           2|        1|                 0.0|\n",
      "|       2|2020-01-27 11:53:00|2020-01-27 12:19:32|                 N|         5|          82|         197|              1|         6.38|      18.22|  0.0|    0.5|       0.0|         0.0|     null|                  0.3|       19.02|           2|        2|                 0.0|\n",
      "|       2|2020-01-29 15:35:00|2020-01-29 16:32:00|                 N|         1|           7|         174|              1|         10.4|       40.5|  0.0|    0.5|       0.0|        6.12|     null|                  0.3|       47.42|           2|        1|                 0.0|\n",
      "|    null|2020-01-02 11:32:00|2020-01-02 11:47:00|              null|      null|          66|         217|           null|         2.95|       12.0|  0.0|    0.0|       0.0|         0.0|     null|                  0.3|        12.3|        null|     null|                null|\n",
      "|       1|2020-01-04 09:40:17|2020-01-04 09:44:12|                 N|         1|          42|          41|              1|          1.0|        5.5|  1.0|    0.5|       0.0|         0.0|     null|                  0.3|         7.3|           1|        1|                 0.0|\n",
      "|       1|2020-01-18 21:41:43|2020-01-18 21:44:29|                 N|         1|         129|         129|              1|          0.4|        4.0|  0.5|    0.5|       0.0|         0.0|     null|                  0.3|         5.3|           2|        1|                 0.0|\n",
      "|       2|2020-01-11 18:43:11|2020-01-11 18:52:58|                 N|         1|          41|          41|              1|         0.91|        7.5|  0.0|    0.5|       0.0|         0.0|     null|                  0.3|         8.3|           2|        1|                 0.0|\n",
      "|    null|2020-01-10 12:49:00|2020-01-10 13:03:00|              null|      null|          35|          71|           null|         2.02|      12.71|  0.0|    0.0|       0.0|         0.0|     null|                  0.3|       13.01|        null|     null|                null|\n",
      "|       1|2020-01-16 15:17:03|2020-01-16 15:36:06|                 N|         1|          52|         148|              1|          3.6|       16.5| 2.75|    0.5|      2.81|         0.0|     null|                  0.3|       22.86|           1|        1|                2.75|\n",
      "|       2|2020-01-18 20:01:34|2020-01-18 20:08:04|                 N|         1|           7|           7|              1|         0.66|        6.0|  0.5|    0.5|      2.19|         0.0|     null|                  0.3|        9.49|           1|        1|                 0.0|\n",
      "|       2|2020-01-22 12:54:22|2020-01-22 13:03:51|                 N|         1|         244|         119|              1|          1.8|        9.0|  0.0|    0.5|       0.0|         0.0|     null|                  0.3|         9.8|           2|        1|                 0.0|\n",
      "|       2|2020-01-22 05:25:16|2020-01-22 05:36:06|                 N|         1|          75|         161|              1|          2.7|       11.0|  0.5|    0.5|      3.01|         0.0|     null|                  0.3|       18.06|           1|        1|                2.75|\n",
      "|       2|2020-01-22 15:55:04|2020-01-22 16:14:15|                 N|         1|         177|          37|              1|         2.58|       13.5|  0.0|    0.5|       0.0|         0.0|     null|                  0.3|        14.3|           1|        1|                 0.0|\n",
      "|       2|2020-01-04 18:02:05|2020-01-04 18:31:34|                 N|         1|          55|          26|              1|         4.99|       22.0|  0.0|    0.5|       0.0|         0.0|     null|                  0.3|        22.8|           1|        1|                 0.0|\n",
      "|       2|2020-01-29 18:33:51|2020-01-29 18:50:47|                 N|         1|         134|         260|              5|         4.49|       17.0|  1.0|    0.5|      3.76|         0.0|     null|                  0.3|       22.56|           1|        1|                 0.0|\n",
      "|       2|2020-01-17 14:30:19|2020-01-17 14:44:04|                 N|         1|           7|         226|              2|         2.03|       11.0|  0.0|    0.5|       0.0|         0.0|     null|                  0.3|        11.8|           2|        1|                 0.0|\n",
      "|    null|2020-01-23 11:49:00|2020-01-23 12:27:00|              null|      null|          75|         170|           null|          3.7|      22.69| 2.75|    0.0|       0.0|         0.0|     null|                  0.3|       25.74|        null|     null|                null|\n",
      "+--------+-------------------+-------------------+------------------+----------+------------+------------+---------------+-------------+-----------+-----+-------+----------+------------+---------+---------------------+------------+------------+---------+--------------------+\n",
      "only showing top 20 rows\n",
      "\n"
     ]
    }
   ],
   "source": [
    "df_green.show()"
   ]
  },
  {
   "cell_type": "code",
   "execution_count": 35,
   "id": "5ed4b95d-faf8-4348-af69-0a7ba2a67c34",
   "metadata": {},
   "outputs": [],
   "source": [
    "df_yellow = spark.read.parquet('data/pq/yellow/*/*')"
   ]
  },
  {
   "cell_type": "code",
   "execution_count": 36,
   "id": "20e73b39-8bdc-4a6c-8a84-b10b39e5eb84",
   "metadata": {},
   "outputs": [
    {
     "name": "stdout",
     "output_type": "stream",
     "text": [
      "+--------+--------------------+---------------------+------------------+----------+------------+------------+---------------+-------------+-----------+-----+-------+----------+------------+---------+---------------------+------------+------------+---------+--------------------+\n",
      "|VendorID|lpep_pickup_datetime|lpep_dropoff_datetime|store_and_fwd_flag|RatecodeID|PULocationID|DOLocationID|passenger_count|trip_distance|fare_amount|extra|mta_tax|tip_amount|tolls_amount|ehail_fee|improvement_surcharge|total_amount|payment_type|trip_type|congestion_surcharge|\n",
      "+--------+--------------------+---------------------+------------------+----------+------------+------------+---------------+-------------+-----------+-----+-------+----------+------------+---------+---------------------+------------+------------+---------+--------------------+\n",
      "|       1| 2020-01-29 18:43:22|  2020-01-29 18:59:08|                 1|      null|           1|        null|            249|        170.0|        1.0| 11.0|    3.5|       0.5|         2.5|      0.0|                  0.3|        17.8|        null|     null|                null|\n",
      "|       2| 2020-01-01 02:33:35|  2020-01-01 02:45:19|                 1|      null|           1|        null|            137|         48.0|        1.0| 10.5|    0.5|       0.5|        4.29|      0.0|                  0.3|       18.59|        null|     null|                null|\n",
      "|       2| 2020-01-20 14:05:32|  2020-01-20 14:08:13|                 2|      null|           1|        null|            163|        237.0|        1.0|  4.0|    0.0|       0.5|         1.7|      0.0|                  0.3|         9.0|        null|     null|                null|\n",
      "|       2| 2020-01-23 21:44:01|  2020-01-23 21:53:05|                 1|      null|           1|        null|             79|        100.0|        1.0|  9.5|    0.5|       0.5|        3.32|      0.0|                  0.3|       16.62|        null|     null|                null|\n",
      "|       1| 2020-01-14 18:31:01|  2020-01-14 18:38:47|                 1|      null|           1|        null|            170|        100.0|        1.0|  6.5|    3.5|       0.5|        2.15|      0.0|                  0.3|       12.95|        null|     null|                null|\n",
      "|       1| 2020-01-08 09:16:05|  2020-01-08 09:58:03|                 1|      null|           1|        null|            138|        113.0|        1.0| 37.5|    2.5|       0.5|        9.35|     6.12|                  0.3|       56.27|        null|     null|                null|\n",
      "|       2| 2020-01-14 07:53:12|  2020-01-14 07:58:44|                 1|      null|           1|        null|            162|        234.0|        1.0|  5.5|    0.0|       0.5|        1.32|      0.0|                  0.3|       10.12|        null|     null|                null|\n",
      "|       1| 2020-01-05 23:18:35|  2020-01-05 23:47:17|                 1|      null|           1|        null|            132|         62.0|        1.0| 35.0|    0.5|       0.5|        5.44|      0.0|                  0.3|       41.74|           0|     null|                null|\n",
      "|       2| 2020-01-10 20:56:21|  2020-01-10 21:10:06|                 1|      null|           1|        null|            239|        162.0|        1.0| 11.5|    0.5|       0.5|        3.82|      0.0|                  0.3|       19.12|        null|     null|                null|\n",
      "|       1| 2020-01-04 18:36:28|  2020-01-04 18:50:44|                 1|      null|           1|        null|            239|        186.0|        1.0| 13.5|    2.5|       0.5|        1.05|      0.0|                  0.3|       17.85|        null|     null|                null|\n",
      "|       2| 2020-01-29 19:48:05|  2020-01-29 19:57:40|                 2|      null|           1|        null|            186|        170.0|        1.0|  8.0|    1.0|       0.5|        2.46|      0.0|                  0.3|       14.76|        null|     null|                null|\n",
      "|       2| 2020-01-25 09:32:46|  2020-01-25 10:09:00|                 5|      null|           1|        null|             48|        246.0|        1.0| 23.5|    0.0|       0.5|         6.7|      0.0|                  0.3|        33.5|        null|     null|                null|\n",
      "|       2| 2020-01-19 10:52:24|  2020-01-19 10:59:51|                 2|      null|           1|        null|            113|        261.0|        1.0|  7.5|    0.0|       0.5|         2.7|      0.0|                  0.3|        13.5|        null|     null|                null|\n",
      "|       1| 2020-01-31 09:34:39|  2020-01-31 09:45:31|                 1|      null|           1|        null|            138|        168.0|        1.0| 20.0|    0.0|       0.5|        5.75|      8.0|                  0.3|       34.55|           0|     null|                null|\n",
      "|       2| 2020-01-31 23:06:44|  2020-01-31 23:18:52|                 1|      null|           1|        null|             48|        229.0|        1.0|  9.0|    0.5|       0.5|        2.56|      0.0|                  0.3|       15.36|        null|     null|                null|\n",
      "|       2| 2020-01-03 20:09:56|  2020-01-03 20:19:50|                 1|      null|           1|        null|            236|        151.0|        1.0|  9.5|    0.5|       0.5|        2.66|      0.0|                  0.3|       15.96|        null|     null|                null|\n",
      "|       1| 2020-01-16 07:05:06|  2020-01-16 07:06:25|                 1|      null|           1|        null|             48|         68.0|        1.0|  3.5|    2.5|       0.5|        1.35|      0.0|                  0.3|        8.15|        null|     null|                null|\n",
      "|       2| 2020-01-13 15:10:17|  2020-01-13 15:12:21|                 1|      null|           1|        null|            164|        170.0|        1.0|  3.5|    0.0|       0.5|         1.0|      0.0|                  0.3|         7.8|        null|     null|                null|\n",
      "|       2| 2020-01-15 19:36:04|  2020-01-15 19:42:50|                 2|      null|           1|        null|            236|        237.0|        1.0|  6.0|    1.0|       0.5|        2.06|      0.0|                  0.3|       12.36|        null|     null|                null|\n",
      "|       1| 2020-01-08 16:53:52|  2020-01-08 16:59:09|                 1|      null|           1|        null|            236|        263.0|        1.0|  5.5|    3.5|       0.5|        1.67|      0.0|                  0.3|       11.47|        null|     null|                null|\n",
      "+--------+--------------------+---------------------+------------------+----------+------------+------------+---------------+-------------+-----------+-----+-------+----------+------------+---------+---------------------+------------+------------+---------+--------------------+\n",
      "only showing top 20 rows\n",
      "\n"
     ]
    }
   ],
   "source": [
    "df_yellow.show()"
   ]
  },
  {
   "cell_type": "code",
   "execution_count": 37,
   "id": "936bba2b-88f1-44e8-b571-5ce0611f700d",
   "metadata": {},
   "outputs": [
    {
     "name": "stdout",
     "output_type": "stream",
     "text": [
      "root\n",
      " |-- VendorID: integer (nullable = true)\n",
      " |-- lpep_pickup_datetime: timestamp (nullable = true)\n",
      " |-- lpep_dropoff_datetime: timestamp (nullable = true)\n",
      " |-- store_and_fwd_flag: string (nullable = true)\n",
      " |-- RatecodeID: integer (nullable = true)\n",
      " |-- PULocationID: integer (nullable = true)\n",
      " |-- DOLocationID: integer (nullable = true)\n",
      " |-- passenger_count: integer (nullable = true)\n",
      " |-- trip_distance: double (nullable = true)\n",
      " |-- fare_amount: double (nullable = true)\n",
      " |-- extra: double (nullable = true)\n",
      " |-- mta_tax: double (nullable = true)\n",
      " |-- tip_amount: double (nullable = true)\n",
      " |-- tolls_amount: double (nullable = true)\n",
      " |-- ehail_fee: double (nullable = true)\n",
      " |-- improvement_surcharge: double (nullable = true)\n",
      " |-- total_amount: double (nullable = true)\n",
      " |-- payment_type: integer (nullable = true)\n",
      " |-- trip_type: integer (nullable = true)\n",
      " |-- congestion_surcharge: double (nullable = true)\n",
      "\n"
     ]
    }
   ],
   "source": [
    "df_yellow.printSchema()"
   ]
  },
  {
   "cell_type": "code",
   "execution_count": 12,
   "id": "cdcca7c8-f0c6-4361-9ec3-8d76ad9db01d",
   "metadata": {},
   "outputs": [],
   "source": [
    "df_green = df_green.withColumnRenamed('lpep_pickup_datetime' , 'pickup_datetime') \\\n",
    "                    .withColumnRenamed('lpep_dropoff_datetime', 'dropoff_datetime')"
   ]
  },
  {
   "cell_type": "code",
   "execution_count": 38,
   "id": "98e6ee08-12ef-4494-881b-73ad1dfef299",
   "metadata": {},
   "outputs": [],
   "source": [
    "df_yellow = df_yellow.withColumnRenamed('lpep_pickup_datetime' , 'pickup_datetime') \\\n",
    "                    .withColumnRenamed('lpep_dropoff_datetime', 'dropoff_datetime')"
   ]
  },
  {
   "cell_type": "code",
   "execution_count": 39,
   "id": "7f23e11f-060f-40fc-be09-fbdc3534fbdf",
   "metadata": {},
   "outputs": [
    {
     "data": {
      "text/plain": [
       "['VendorID',\n",
       " 'pickup_datetime',\n",
       " 'dropoff_datetime',\n",
       " 'store_and_fwd_flag',\n",
       " 'RatecodeID',\n",
       " 'PULocationID',\n",
       " 'DOLocationID',\n",
       " 'passenger_count',\n",
       " 'trip_distance',\n",
       " 'fare_amount',\n",
       " 'extra',\n",
       " 'mta_tax',\n",
       " 'tip_amount',\n",
       " 'tolls_amount',\n",
       " 'ehail_fee',\n",
       " 'improvement_surcharge',\n",
       " 'total_amount',\n",
       " 'payment_type',\n",
       " 'trip_type',\n",
       " 'congestion_surcharge']"
      ]
     },
     "execution_count": 39,
     "metadata": {},
     "output_type": "execute_result"
    }
   ],
   "source": [
    "df_yellow.columns"
   ]
  },
  {
   "cell_type": "code",
   "execution_count": 47,
   "id": "c7412f13-a242-4e63-adfe-903665936aa5",
   "metadata": {},
   "outputs": [],
   "source": [
    "# set(df_green.columns) & set(df_yellow.columns)\n",
    "\n",
    "green_columns = set(df_yellow.columns)\n",
    "\n",
    "common_columns = []\n",
    "for col in df_yellow.columns:\n",
    "    if col in green_columns: \n",
    "        common_columns.append(col)"
   ]
  },
  {
   "cell_type": "code",
   "execution_count": 48,
   "id": "a81d10ce-bd1c-4b91-a9b1-c1993197d4af",
   "metadata": {},
   "outputs": [],
   "source": [
    "from pyspark.sql import functions as F"
   ]
  },
  {
   "cell_type": "code",
   "execution_count": 52,
   "id": "1b7f38d3-7cca-4662-94b7-b83af14c2c69",
   "metadata": {},
   "outputs": [],
   "source": [
    "df_green_sel = df_green \\\n",
    "    .select(common_columns) \\\n",
    "    .withColumn('service_type', F.lit('green')) "
   ]
  },
  {
   "cell_type": "code",
   "execution_count": 54,
   "id": "15f3e584-1b4a-41d4-b420-02d350414bdc",
   "metadata": {},
   "outputs": [],
   "source": [
    "df_yellow_sel = df_yellow \\\n",
    "    .select(common_columns) \\\n",
    "    .withColumn('service_type', F.lit('yellow')) "
   ]
  },
  {
   "cell_type": "code",
   "execution_count": 55,
   "id": "bb98e4b6-2723-4f7a-8fb0-fef0bb403f4d",
   "metadata": {},
   "outputs": [],
   "source": [
    "df_tripdata = df_green_sel.unionAll(df_yellow_sel)"
   ]
  },
  {
   "cell_type": "code",
   "execution_count": 62,
   "id": "c84e6a31-c91d-4706-96b8-0fb21d51661c",
   "metadata": {},
   "outputs": [
    {
     "name": "stderr",
     "output_type": "stream",
     "text": [
      "[Stage 11:=========================>                               (8 + 8) / 18]\r"
     ]
    },
    {
     "name": "stdout",
     "output_type": "stream",
     "text": [
      "+------------+--------+\n",
      "|service_type|   count|\n",
      "+------------+--------+\n",
      "|       green| 2304517|\n",
      "|      yellow|39649199|\n",
      "+------------+--------+\n",
      "\n"
     ]
    },
    {
     "name": "stderr",
     "output_type": "stream",
     "text": [
      "                                                                                \r"
     ]
    }
   ],
   "source": [
    "df_tripdata.groupBy('service_type').count().show()"
   ]
  },
  {
   "cell_type": "code",
   "execution_count": 72,
   "id": "dffac2f4-8a94-414c-9f54-0ec2a16d29a7",
   "metadata": {},
   "outputs": [],
   "source": [
    "df_tripdata.registerTempTable('trips_data')"
   ]
  },
  {
   "cell_type": "code",
   "execution_count": 73,
   "id": "3e9bd727-70f4-4895-ae66-836b1c569128",
   "metadata": {},
   "outputs": [
    {
     "name": "stdout",
     "output_type": "stream",
     "text": [
      "+--------+-------------------+-------------------+------------------+----------+------------+------------+---------------+-------------+-----------+-----+-------+----------+------------+---------+---------------------+------------+------------+---------+--------------------+------------+\n",
      "|VendorID|    pickup_datetime|   dropoff_datetime|store_and_fwd_flag|RatecodeID|PULocationID|DOLocationID|passenger_count|trip_distance|fare_amount|extra|mta_tax|tip_amount|tolls_amount|ehail_fee|improvement_surcharge|total_amount|payment_type|trip_type|congestion_surcharge|service_type|\n",
      "+--------+-------------------+-------------------+------------------+----------+------------+------------+---------------+-------------+-----------+-----+-------+----------+------------+---------+---------------------+------------+------------+---------+--------------------+------------+\n",
      "|       2|2020-01-27 23:23:13|2020-01-27 23:33:22|                 N|         1|         260|         223|              1|         2.98|       11.5|  0.5|    0.5|       3.2|         0.0|     null|                  0.3|        16.0|           1|        1|                 0.0|       green|\n",
      "|    null|2020-01-30 20:30:00|2020-01-30 20:51:00|              null|      null|         238|          47|           null|         7.65|      25.46| 2.75|    0.0|       0.0|         0.0|     null|                  0.3|       28.51|        null|     null|                null|       green|\n",
      "|    null|2020-01-22 18:13:00|2020-01-22 18:32:00|              null|      null|          82|          95|           null|         1.83|      19.06| 2.75|    0.0|       0.0|         0.0|     null|                  0.3|       22.11|        null|     null|                null|       green|\n",
      "|       2|2020-01-04 18:12:24|2020-01-04 18:21:13|                 N|         1|          42|         244|              1|         1.65|        8.0|  0.0|    0.5|       0.0|         0.0|     null|                  0.3|         8.8|           2|        1|                 0.0|       green|\n",
      "|       2|2020-01-27 11:53:00|2020-01-27 12:19:32|                 N|         5|          82|         197|              1|         6.38|      18.22|  0.0|    0.5|       0.0|         0.0|     null|                  0.3|       19.02|           2|        2|                 0.0|       green|\n",
      "|       2|2020-01-29 15:35:00|2020-01-29 16:32:00|                 N|         1|           7|         174|              1|         10.4|       40.5|  0.0|    0.5|       0.0|        6.12|     null|                  0.3|       47.42|           2|        1|                 0.0|       green|\n",
      "|    null|2020-01-02 11:32:00|2020-01-02 11:47:00|              null|      null|          66|         217|           null|         2.95|       12.0|  0.0|    0.0|       0.0|         0.0|     null|                  0.3|        12.3|        null|     null|                null|       green|\n",
      "|       1|2020-01-04 09:40:17|2020-01-04 09:44:12|                 N|         1|          42|          41|              1|          1.0|        5.5|  1.0|    0.5|       0.0|         0.0|     null|                  0.3|         7.3|           1|        1|                 0.0|       green|\n",
      "|       1|2020-01-18 21:41:43|2020-01-18 21:44:29|                 N|         1|         129|         129|              1|          0.4|        4.0|  0.5|    0.5|       0.0|         0.0|     null|                  0.3|         5.3|           2|        1|                 0.0|       green|\n",
      "|       2|2020-01-11 18:43:11|2020-01-11 18:52:58|                 N|         1|          41|          41|              1|         0.91|        7.5|  0.0|    0.5|       0.0|         0.0|     null|                  0.3|         8.3|           2|        1|                 0.0|       green|\n",
      "|    null|2020-01-10 12:49:00|2020-01-10 13:03:00|              null|      null|          35|          71|           null|         2.02|      12.71|  0.0|    0.0|       0.0|         0.0|     null|                  0.3|       13.01|        null|     null|                null|       green|\n",
      "|       1|2020-01-16 15:17:03|2020-01-16 15:36:06|                 N|         1|          52|         148|              1|          3.6|       16.5| 2.75|    0.5|      2.81|         0.0|     null|                  0.3|       22.86|           1|        1|                2.75|       green|\n",
      "|       2|2020-01-18 20:01:34|2020-01-18 20:08:04|                 N|         1|           7|           7|              1|         0.66|        6.0|  0.5|    0.5|      2.19|         0.0|     null|                  0.3|        9.49|           1|        1|                 0.0|       green|\n",
      "|       2|2020-01-22 12:54:22|2020-01-22 13:03:51|                 N|         1|         244|         119|              1|          1.8|        9.0|  0.0|    0.5|       0.0|         0.0|     null|                  0.3|         9.8|           2|        1|                 0.0|       green|\n",
      "|       2|2020-01-22 05:25:16|2020-01-22 05:36:06|                 N|         1|          75|         161|              1|          2.7|       11.0|  0.5|    0.5|      3.01|         0.0|     null|                  0.3|       18.06|           1|        1|                2.75|       green|\n",
      "|       2|2020-01-22 15:55:04|2020-01-22 16:14:15|                 N|         1|         177|          37|              1|         2.58|       13.5|  0.0|    0.5|       0.0|         0.0|     null|                  0.3|        14.3|           1|        1|                 0.0|       green|\n",
      "|       2|2020-01-04 18:02:05|2020-01-04 18:31:34|                 N|         1|          55|          26|              1|         4.99|       22.0|  0.0|    0.5|       0.0|         0.0|     null|                  0.3|        22.8|           1|        1|                 0.0|       green|\n",
      "|       2|2020-01-29 18:33:51|2020-01-29 18:50:47|                 N|         1|         134|         260|              5|         4.49|       17.0|  1.0|    0.5|      3.76|         0.0|     null|                  0.3|       22.56|           1|        1|                 0.0|       green|\n",
      "|       2|2020-01-17 14:30:19|2020-01-17 14:44:04|                 N|         1|           7|         226|              2|         2.03|       11.0|  0.0|    0.5|       0.0|         0.0|     null|                  0.3|        11.8|           2|        1|                 0.0|       green|\n",
      "|    null|2020-01-23 11:49:00|2020-01-23 12:27:00|              null|      null|          75|         170|           null|          3.7|      22.69| 2.75|    0.0|       0.0|         0.0|     null|                  0.3|       25.74|        null|     null|                null|       green|\n",
      "+--------+-------------------+-------------------+------------------+----------+------------+------------+---------------+-------------+-----------+-----+-------+----------+------------+---------+---------------------+------------+------------+---------+--------------------+------------+\n",
      "only showing top 20 rows\n",
      "\n"
     ]
    }
   ],
   "source": [
    "spark.sql(\"\"\"\n",
    "\n",
    "select * from trips_data;\n",
    "\"\"\"\n",
    "         ).show()"
   ]
  },
  {
   "cell_type": "code",
   "execution_count": 74,
   "id": "988b3eed-6a7f-4879-ae58-dbd61469c01e",
   "metadata": {},
   "outputs": [],
   "source": [
    "df_result = spark.sql(\"\"\"\n",
    "SELECT \n",
    "    -- Reveneue grouping \n",
    "    PULocationID AS revenue_zone,\n",
    "    date_trunc('month', pickup_datetime) AS revenue_month, \n",
    "    service_type, \n",
    "    -- Revenue calculation \n",
    "    SUM(fare_amount) AS revenue_monthly_fare,\n",
    "    SUM(extra) AS revenue_monthly_extra,\n",
    "    SUM(mta_tax) AS revenue_monthly_mta_tax,\n",
    "    SUM(tip_amount) AS revenue_monthly_tip_amount,\n",
    "    SUM(tolls_amount) AS revenue_monthly_tolls_amount,\n",
    "    SUM(improvement_surcharge) AS revenue_monthly_improvement_surcharge,\n",
    "    SUM(total_amount) AS revenue_monthly_total_amount,\n",
    "    SUM(congestion_surcharge) AS revenue_monthly_congestion_surcharge,\n",
    "    -- Additional calculations\n",
    "    AVG(passenger_count) AS avg_montly_passenger_count,\n",
    "    AVG(trip_distance) AS avg_montly_trip_distance\n",
    "FROM\n",
    "    trips_data\n",
    "GROUP BY\n",
    "    1, 2, 3\n",
    "\"\"\")\n"
   ]
  },
  {
   "cell_type": "code",
   "execution_count": 76,
   "id": "8cd4e085-e5c4-4b8a-b04e-a92beb493b06",
   "metadata": {},
   "outputs": [
    {
     "name": "stderr",
     "output_type": "stream",
     "text": [
      "                                                                                \r"
     ]
    }
   ],
   "source": [
    "df_result.coalesce. write.parquet('data/report/revenue')"
   ]
  }
 ],
 "metadata": {
  "kernelspec": {
   "display_name": "Python 3 (ipykernel)",
   "language": "python",
   "name": "python3"
  },
  "language_info": {
   "codemirror_mode": {
    "name": "ipython",
    "version": 3
   },
   "file_extension": ".py",
   "mimetype": "text/x-python",
   "name": "python",
   "nbconvert_exporter": "python",
   "pygments_lexer": "ipython3",
   "version": "3.8.16"
  }
 },
 "nbformat": 4,
 "nbformat_minor": 5
}
