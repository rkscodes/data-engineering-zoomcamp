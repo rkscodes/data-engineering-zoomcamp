{
 "cells": [
  {
   "cell_type": "code",
   "execution_count": 4,
   "metadata": {},
   "outputs": [
    {
     "name": "stderr",
     "output_type": "stream",
     "text": [
      "Setting default log level to \"WARN\".\n",
      "To adjust logging level use sc.setLogLevel(newLevel). For SparkR, use setLogLevel(newLevel).\n"
     ]
    },
    {
     "name": "stdout",
     "output_type": "stream",
     "text": [
      "23/03/19 15:16:10 WARN NativeCodeLoader: Unable to load native-hadoop library for your platform... using builtin-java classes where applicable\n"
     ]
    }
   ],
   "source": [
    "import pyspark\n",
    "from pyspark.sql import SparkSession\n",
    "\n",
    "spark = SparkSession.builder \\\n",
    "    .master(\"local[*]\") \\\n",
    "    .appName('test') \\\n",
    "    .getOrCreate()"
   ]
  },
  {
   "cell_type": "code",
   "execution_count": 5,
   "metadata": {},
   "outputs": [
    {
     "name": "stderr",
     "output_type": "stream",
     "text": [
      "                                                                                \r"
     ]
    }
   ],
   "source": [
    "df_green = spark.read.parquet('data/pq/green/*/*')"
   ]
  },
  {
   "cell_type": "code",
   "execution_count": 6,
   "metadata": {},
   "outputs": [
    {
     "name": "stdout",
     "output_type": "stream",
     "text": [
      "+--------+--------------------+---------------------+------------------+----------+------------+------------+---------------+-------------+-----------+-----+-------+----------+------------+---------+---------------------+------------+------------+---------+--------------------+\n",
      "|VendorID|lpep_pickup_datetime|lpep_dropoff_datetime|store_and_fwd_flag|RatecodeID|PULocationID|DOLocationID|passenger_count|trip_distance|fare_amount|extra|mta_tax|tip_amount|tolls_amount|ehail_fee|improvement_surcharge|total_amount|payment_type|trip_type|congestion_surcharge|\n",
      "+--------+--------------------+---------------------+------------------+----------+------------+------------+---------------+-------------+-----------+-----+-------+----------+------------+---------+---------------------+------------+------------+---------+--------------------+\n",
      "|       2| 2020-01-27 23:23:13|  2020-01-27 23:33:22|                 N|         1|         260|         223|              1|         2.98|       11.5|  0.5|    0.5|       3.2|         0.0|     null|                  0.3|        16.0|           1|        1|                 0.0|\n",
      "|    null| 2020-01-30 20:30:00|  2020-01-30 20:51:00|              null|      null|         238|          47|           null|         7.65|      25.46| 2.75|    0.0|       0.0|         0.0|     null|                  0.3|       28.51|        null|     null|                null|\n",
      "|    null| 2020-01-22 18:13:00|  2020-01-22 18:32:00|              null|      null|          82|          95|           null|         1.83|      19.06| 2.75|    0.0|       0.0|         0.0|     null|                  0.3|       22.11|        null|     null|                null|\n",
      "|       2| 2020-01-04 18:12:24|  2020-01-04 18:21:13|                 N|         1|          42|         244|              1|         1.65|        8.0|  0.0|    0.5|       0.0|         0.0|     null|                  0.3|         8.8|           2|        1|                 0.0|\n",
      "|       2| 2020-01-27 11:53:00|  2020-01-27 12:19:32|                 N|         5|          82|         197|              1|         6.38|      18.22|  0.0|    0.5|       0.0|         0.0|     null|                  0.3|       19.02|           2|        2|                 0.0|\n",
      "|       2| 2020-01-29 15:35:00|  2020-01-29 16:32:00|                 N|         1|           7|         174|              1|         10.4|       40.5|  0.0|    0.5|       0.0|        6.12|     null|                  0.3|       47.42|           2|        1|                 0.0|\n",
      "|    null| 2020-01-02 11:32:00|  2020-01-02 11:47:00|              null|      null|          66|         217|           null|         2.95|       12.0|  0.0|    0.0|       0.0|         0.0|     null|                  0.3|        12.3|        null|     null|                null|\n",
      "|       1| 2020-01-04 09:40:17|  2020-01-04 09:44:12|                 N|         1|          42|          41|              1|          1.0|        5.5|  1.0|    0.5|       0.0|         0.0|     null|                  0.3|         7.3|           1|        1|                 0.0|\n",
      "|       1| 2020-01-18 21:41:43|  2020-01-18 21:44:29|                 N|         1|         129|         129|              1|          0.4|        4.0|  0.5|    0.5|       0.0|         0.0|     null|                  0.3|         5.3|           2|        1|                 0.0|\n",
      "|       2| 2020-01-11 18:43:11|  2020-01-11 18:52:58|                 N|         1|          41|          41|              1|         0.91|        7.5|  0.0|    0.5|       0.0|         0.0|     null|                  0.3|         8.3|           2|        1|                 0.0|\n",
      "|    null| 2020-01-10 12:49:00|  2020-01-10 13:03:00|              null|      null|          35|          71|           null|         2.02|      12.71|  0.0|    0.0|       0.0|         0.0|     null|                  0.3|       13.01|        null|     null|                null|\n",
      "|       1| 2020-01-16 15:17:03|  2020-01-16 15:36:06|                 N|         1|          52|         148|              1|          3.6|       16.5| 2.75|    0.5|      2.81|         0.0|     null|                  0.3|       22.86|           1|        1|                2.75|\n",
      "|       2| 2020-01-18 20:01:34|  2020-01-18 20:08:04|                 N|         1|           7|           7|              1|         0.66|        6.0|  0.5|    0.5|      2.19|         0.0|     null|                  0.3|        9.49|           1|        1|                 0.0|\n",
      "|       2| 2020-01-22 12:54:22|  2020-01-22 13:03:51|                 N|         1|         244|         119|              1|          1.8|        9.0|  0.0|    0.5|       0.0|         0.0|     null|                  0.3|         9.8|           2|        1|                 0.0|\n",
      "|       2| 2020-01-22 05:25:16|  2020-01-22 05:36:06|                 N|         1|          75|         161|              1|          2.7|       11.0|  0.5|    0.5|      3.01|         0.0|     null|                  0.3|       18.06|           1|        1|                2.75|\n",
      "|       2| 2020-01-22 15:55:04|  2020-01-22 16:14:15|                 N|         1|         177|          37|              1|         2.58|       13.5|  0.0|    0.5|       0.0|         0.0|     null|                  0.3|        14.3|           1|        1|                 0.0|\n",
      "|       2| 2020-01-04 18:02:05|  2020-01-04 18:31:34|                 N|         1|          55|          26|              1|         4.99|       22.0|  0.0|    0.5|       0.0|         0.0|     null|                  0.3|        22.8|           1|        1|                 0.0|\n",
      "|       2| 2020-01-29 18:33:51|  2020-01-29 18:50:47|                 N|         1|         134|         260|              5|         4.49|       17.0|  1.0|    0.5|      3.76|         0.0|     null|                  0.3|       22.56|           1|        1|                 0.0|\n",
      "|       2| 2020-01-17 14:30:19|  2020-01-17 14:44:04|                 N|         1|           7|         226|              2|         2.03|       11.0|  0.0|    0.5|       0.0|         0.0|     null|                  0.3|        11.8|           2|        1|                 0.0|\n",
      "|    null| 2020-01-23 11:49:00|  2020-01-23 12:27:00|              null|      null|          75|         170|           null|          3.7|      22.69| 2.75|    0.0|       0.0|         0.0|     null|                  0.3|       25.74|        null|     null|                null|\n",
      "+--------+--------------------+---------------------+------------------+----------+------------+------------+---------------+-------------+-----------+-----+-------+----------+------------+---------+---------------------+------------+------------+---------+--------------------+\n",
      "only showing top 20 rows\n",
      "\n"
     ]
    }
   ],
   "source": [
    "df_green.show()\n"
   ]
  },
  {
   "cell_type": "code",
   "execution_count": 7,
   "metadata": {},
   "outputs": [
    {
     "data": {
      "text/plain": [
       "[Row(VendorID=2, lpep_pickup_datetime=datetime.datetime(2020, 1, 27, 23, 23, 13), lpep_dropoff_datetime=datetime.datetime(2020, 1, 27, 23, 33, 22), store_and_fwd_flag='N', RatecodeID=1, PULocationID=260, DOLocationID=223, passenger_count=1, trip_distance=2.98, fare_amount=11.5, extra=0.5, mta_tax=0.5, tip_amount=3.2, tolls_amount=0.0, ehail_fee=None, improvement_surcharge=0.3, total_amount=16.0, payment_type=1, trip_type=1, congestion_surcharge=0.0),\n",
       " Row(VendorID=None, lpep_pickup_datetime=datetime.datetime(2020, 1, 30, 20, 30), lpep_dropoff_datetime=datetime.datetime(2020, 1, 30, 20, 51), store_and_fwd_flag=None, RatecodeID=None, PULocationID=238, DOLocationID=47, passenger_count=None, trip_distance=7.65, fare_amount=25.46, extra=2.75, mta_tax=0.0, tip_amount=0.0, tolls_amount=0.0, ehail_fee=None, improvement_surcharge=0.3, total_amount=28.51, payment_type=None, trip_type=None, congestion_surcharge=None)]"
      ]
     },
     "execution_count": 7,
     "metadata": {},
     "output_type": "execute_result"
    }
   ],
   "source": [
    "df_green.rdd.take(2)"
   ]
  },
  {
   "attachments": {},
   "cell_type": "markdown",
   "metadata": {},
   "source": [
    "### implement this with rdd\n",
    "\n",
    "SELECT \n",
    "    date_trunc('hour', lpep_pickup_datetime) AS hour, \n",
    "    PULocationID AS zone,\n",
    "\n",
    "    SUM(total_amount) AS amount,\n",
    "    COUNT(1) AS number_records\n",
    "FROM\n",
    "    green\n",
    "WHERE\n",
    "    lpep_pickup_datetime >= '2020-01-01 00:00:00'\n",
    "GROUP BY\n",
    "    1, 2"
   ]
  },
  {
   "cell_type": "code",
   "execution_count": 12,
   "metadata": {},
   "outputs": [],
   "source": [
    "rdd = df_green \\\n",
    "        .select('lpep_pickup_datetime', 'PULocationID', 'total_amount') \\\n",
    "        .rdd"
   ]
  },
  {
   "cell_type": "code",
   "execution_count": 13,
   "metadata": {},
   "outputs": [
    {
     "data": {
      "text/plain": [
       "[Row(lpep_pickup_datetime=datetime.datetime(2020, 1, 27, 23, 23, 13), PULocationID=260, total_amount=16.0),\n",
       " Row(lpep_pickup_datetime=datetime.datetime(2020, 1, 30, 20, 30), PULocationID=238, total_amount=28.51)]"
      ]
     },
     "execution_count": 13,
     "metadata": {},
     "output_type": "execute_result"
    }
   ],
   "source": [
    "rdd.filter(lambda row: True).take(2)"
   ]
  },
  {
   "cell_type": "code",
   "execution_count": 15,
   "metadata": {},
   "outputs": [],
   "source": [
    "from datetime import datetime"
   ]
  },
  {
   "cell_type": "code",
   "execution_count": 19,
   "metadata": {},
   "outputs": [],
   "source": [
    "def filter_outliers(row):\n",
    "    start = datetime(year=2021, month=1, day=1)\n",
    "    return row.lpep_pickup_datetime >= start"
   ]
  },
  {
   "cell_type": "code",
   "execution_count": 20,
   "metadata": {},
   "outputs": [
    {
     "name": "stderr",
     "output_type": "stream",
     "text": [
      "                                                                                \r"
     ]
    },
    {
     "data": {
      "text/plain": [
       "[Row(lpep_pickup_datetime=datetime.datetime(2021, 6, 11, 20, 4, 53), PULocationID=244, total_amount=33.55)]"
      ]
     },
     "execution_count": 20,
     "metadata": {},
     "output_type": "execute_result"
    }
   ],
   "source": [
    "rdd.filter(filter_outliers).take(1)"
   ]
  },
  {
   "cell_type": "code",
   "execution_count": 21,
   "metadata": {},
   "outputs": [],
   "source": [
    "rows = rdd.take(10)\n",
    "row = rows[0]"
   ]
  },
  {
   "cell_type": "code",
   "execution_count": 22,
   "metadata": {},
   "outputs": [
    {
     "data": {
      "text/plain": [
       "Row(lpep_pickup_datetime=datetime.datetime(2020, 1, 27, 23, 23, 13), PULocationID=260, total_amount=16.0)"
      ]
     },
     "execution_count": 22,
     "metadata": {},
     "output_type": "execute_result"
    }
   ],
   "source": [
    "row"
   ]
  },
  {
   "cell_type": "code",
   "execution_count": 25,
   "metadata": {},
   "outputs": [],
   "source": [
    "def prepare_for_grouping(row):\n",
    "    hour = row.lpep_pickup_datetime.replace(minute=0 , second=0, microsecond=0)\n",
    "    zone = row.PULocationID\n",
    "\n",
    "    key = (hour, zone)\n",
    "\n",
    "    amount = row.total_amount\n",
    "    count = 1\n",
    "    \n",
    "    value = (amount, count)\n",
    "    return (key,value)"
   ]
  },
  {
   "cell_type": "code",
   "execution_count": 27,
   "metadata": {},
   "outputs": [],
   "source": [
    "def calculate_revenue(left_value, right_value):\n",
    "    left_amount, left_count = left_value\n",
    "    right_amount, right_count = right_value\n",
    "    \n",
    "    output_amount = left_amount + right_amount\n",
    "    output_count = left_count + right_count\n",
    "\n",
    "    output_value = (output_amount, output_count)\n",
    "\n",
    "    return (output_amount, output_count)\n",
    "    "
   ]
  },
  {
   "cell_type": "code",
   "execution_count": 34,
   "metadata": {},
   "outputs": [],
   "source": [
    "from collections import namedtuple\n",
    "\n",
    "RevenueRow = namedtuple('RevenueRow', ['hour', 'zone', 'revenue', 'count'])"
   ]
  },
  {
   "cell_type": "code",
   "execution_count": 35,
   "metadata": {},
   "outputs": [],
   "source": [
    "def unwrap(row):\n",
    "    return RevenueRow(\n",
    "        hour=row[0][0], \n",
    "        zone=row[0][1],\n",
    "        revenue = row[1][0],\n",
    "        count = row[1][1])"
   ]
  },
  {
   "cell_type": "code",
   "execution_count": 42,
   "metadata": {},
   "outputs": [],
   "source": [
    "from pyspark.sql import types\n",
    "\n",
    "result_schema = types.StructType([\n",
    "types.StructField('hour', types.TimestampType(), True), \n",
    "types.StructField('zone', types.IntegerType(), True), \n",
    "types.StructField('revenue', types.DoubleType(), True), \n",
    "types.StructField('count', types.IntegerType(), True)\n",
    "])"
   ]
  },
  {
   "cell_type": "code",
   "execution_count": 43,
   "metadata": {},
   "outputs": [],
   "source": [
    "df_result = rdd.filter(filter_outliers) \\\n",
    "    .map(prepare_for_grouping) \\\n",
    "    .reduceByKey(calculate_revenue) \\\n",
    "    .map(unwrap) \\\n",
    "    .toDF(result_schema)"
   ]
  },
  {
   "cell_type": "code",
   "execution_count": 44,
   "metadata": {},
   "outputs": [
    {
     "data": {
      "text/plain": [
       "StructType([StructField('hour', TimestampType(), True), StructField('zone', IntegerType(), True), StructField('revenue', DoubleType(), True), StructField('count', IntegerType(), True)])"
      ]
     },
     "execution_count": 44,
     "metadata": {},
     "output_type": "execute_result"
    }
   ],
   "source": [
    "df_result.schema"
   ]
  },
  {
   "cell_type": "code",
   "execution_count": 45,
   "metadata": {},
   "outputs": [
    {
     "name": "stderr",
     "output_type": "stream",
     "text": [
      "[Stage 22:==================================================>       (7 + 1) / 8]\r"
     ]
    },
    {
     "name": "stdout",
     "output_type": "stream",
     "text": [
      "+-------------------+----+------------------+-----+\n",
      "|               hour|zone|           revenue|count|\n",
      "+-------------------+----+------------------+-----+\n",
      "|2021-06-17 11:00:00|   7|             95.56|    6|\n",
      "|2021-06-05 13:00:00| 198|              43.0|    1|\n",
      "|2021-06-17 22:00:00|  93|            164.06|    3|\n",
      "|2021-06-26 10:00:00|  42|            179.66|    9|\n",
      "|2021-06-27 16:00:00| 173|53.599999999999994|    2|\n",
      "|2021-06-10 16:00:00|  72|              25.5|    1|\n",
      "|2021-06-07 21:00:00|  75|57.290000000000006|    5|\n",
      "|2021-06-27 10:00:00|  74|            194.33|   12|\n",
      "|2021-06-13 07:00:00|   8|             19.88|    1|\n",
      "|2021-06-03 10:00:00| 155|53.730000000000004|    2|\n",
      "|2021-06-29 12:00:00|  92|             34.09|    1|\n",
      "|2021-06-08 12:00:00|  24|             61.54|    2|\n",
      "|2021-06-24 22:00:00|  41|            122.05|    8|\n",
      "|2021-06-25 07:00:00|  74| 522.4200000000001|   36|\n",
      "|2021-06-18 08:00:00|  28|             38.97|    1|\n",
      "|2021-06-27 13:00:00|   3|             53.22|    1|\n",
      "|2021-06-09 14:00:00| 242|            119.15|    4|\n",
      "|2021-06-08 12:00:00| 152|18.400000000000002|    3|\n",
      "|2021-06-24 09:00:00|  74|377.81000000000006|   28|\n",
      "|2021-06-01 17:00:00|  41|257.28000000000003|   13|\n",
      "+-------------------+----+------------------+-----+\n",
      "only showing top 20 rows\n",
      "\n"
     ]
    },
    {
     "name": "stderr",
     "output_type": "stream",
     "text": [
      "                                                                                \r"
     ]
    }
   ],
   "source": [
    "df_result.show()"
   ]
  },
  {
   "attachments": {},
   "cell_type": "markdown",
   "metadata": {},
   "source": [
    "## Let's use map_partitions, which takes one partition as input and return modified partititon\n",
    "- We would like to do this when we have really large data, and we wnat to to say some ML stuff on it\n",
    "- then we can use pass the ML algo to the map partition and do the stuff \n",
    "- show example below"
   ]
  },
  {
   "cell_type": "code",
   "execution_count": 46,
   "metadata": {},
   "outputs": [
    {
     "name": "stdout",
     "output_type": "stream",
     "text": [
      "+--------+--------------------+---------------------+------------------+----------+------------+------------+---------------+-------------+-----------+-----+-------+----------+------------+---------+---------------------+------------+------------+---------+--------------------+\n",
      "|VendorID|lpep_pickup_datetime|lpep_dropoff_datetime|store_and_fwd_flag|RatecodeID|PULocationID|DOLocationID|passenger_count|trip_distance|fare_amount|extra|mta_tax|tip_amount|tolls_amount|ehail_fee|improvement_surcharge|total_amount|payment_type|trip_type|congestion_surcharge|\n",
      "+--------+--------------------+---------------------+------------------+----------+------------+------------+---------------+-------------+-----------+-----+-------+----------+------------+---------+---------------------+------------+------------+---------+--------------------+\n",
      "|       2| 2020-01-27 23:23:13|  2020-01-27 23:33:22|                 N|         1|         260|         223|              1|         2.98|       11.5|  0.5|    0.5|       3.2|         0.0|     null|                  0.3|        16.0|           1|        1|                 0.0|\n",
      "|    null| 2020-01-30 20:30:00|  2020-01-30 20:51:00|              null|      null|         238|          47|           null|         7.65|      25.46| 2.75|    0.0|       0.0|         0.0|     null|                  0.3|       28.51|        null|     null|                null|\n",
      "|    null| 2020-01-22 18:13:00|  2020-01-22 18:32:00|              null|      null|          82|          95|           null|         1.83|      19.06| 2.75|    0.0|       0.0|         0.0|     null|                  0.3|       22.11|        null|     null|                null|\n",
      "|       2| 2020-01-04 18:12:24|  2020-01-04 18:21:13|                 N|         1|          42|         244|              1|         1.65|        8.0|  0.0|    0.5|       0.0|         0.0|     null|                  0.3|         8.8|           2|        1|                 0.0|\n",
      "|       2| 2020-01-27 11:53:00|  2020-01-27 12:19:32|                 N|         5|          82|         197|              1|         6.38|      18.22|  0.0|    0.5|       0.0|         0.0|     null|                  0.3|       19.02|           2|        2|                 0.0|\n",
      "|       2| 2020-01-29 15:35:00|  2020-01-29 16:32:00|                 N|         1|           7|         174|              1|         10.4|       40.5|  0.0|    0.5|       0.0|        6.12|     null|                  0.3|       47.42|           2|        1|                 0.0|\n",
      "|    null| 2020-01-02 11:32:00|  2020-01-02 11:47:00|              null|      null|          66|         217|           null|         2.95|       12.0|  0.0|    0.0|       0.0|         0.0|     null|                  0.3|        12.3|        null|     null|                null|\n",
      "|       1| 2020-01-04 09:40:17|  2020-01-04 09:44:12|                 N|         1|          42|          41|              1|          1.0|        5.5|  1.0|    0.5|       0.0|         0.0|     null|                  0.3|         7.3|           1|        1|                 0.0|\n",
      "|       1| 2020-01-18 21:41:43|  2020-01-18 21:44:29|                 N|         1|         129|         129|              1|          0.4|        4.0|  0.5|    0.5|       0.0|         0.0|     null|                  0.3|         5.3|           2|        1|                 0.0|\n",
      "|       2| 2020-01-11 18:43:11|  2020-01-11 18:52:58|                 N|         1|          41|          41|              1|         0.91|        7.5|  0.0|    0.5|       0.0|         0.0|     null|                  0.3|         8.3|           2|        1|                 0.0|\n",
      "|    null| 2020-01-10 12:49:00|  2020-01-10 13:03:00|              null|      null|          35|          71|           null|         2.02|      12.71|  0.0|    0.0|       0.0|         0.0|     null|                  0.3|       13.01|        null|     null|                null|\n",
      "|       1| 2020-01-16 15:17:03|  2020-01-16 15:36:06|                 N|         1|          52|         148|              1|          3.6|       16.5| 2.75|    0.5|      2.81|         0.0|     null|                  0.3|       22.86|           1|        1|                2.75|\n",
      "|       2| 2020-01-18 20:01:34|  2020-01-18 20:08:04|                 N|         1|           7|           7|              1|         0.66|        6.0|  0.5|    0.5|      2.19|         0.0|     null|                  0.3|        9.49|           1|        1|                 0.0|\n",
      "|       2| 2020-01-22 12:54:22|  2020-01-22 13:03:51|                 N|         1|         244|         119|              1|          1.8|        9.0|  0.0|    0.5|       0.0|         0.0|     null|                  0.3|         9.8|           2|        1|                 0.0|\n",
      "|       2| 2020-01-22 05:25:16|  2020-01-22 05:36:06|                 N|         1|          75|         161|              1|          2.7|       11.0|  0.5|    0.5|      3.01|         0.0|     null|                  0.3|       18.06|           1|        1|                2.75|\n",
      "|       2| 2020-01-22 15:55:04|  2020-01-22 16:14:15|                 N|         1|         177|          37|              1|         2.58|       13.5|  0.0|    0.5|       0.0|         0.0|     null|                  0.3|        14.3|           1|        1|                 0.0|\n",
      "|       2| 2020-01-04 18:02:05|  2020-01-04 18:31:34|                 N|         1|          55|          26|              1|         4.99|       22.0|  0.0|    0.5|       0.0|         0.0|     null|                  0.3|        22.8|           1|        1|                 0.0|\n",
      "|       2| 2020-01-29 18:33:51|  2020-01-29 18:50:47|                 N|         1|         134|         260|              5|         4.49|       17.0|  1.0|    0.5|      3.76|         0.0|     null|                  0.3|       22.56|           1|        1|                 0.0|\n",
      "|       2| 2020-01-17 14:30:19|  2020-01-17 14:44:04|                 N|         1|           7|         226|              2|         2.03|       11.0|  0.0|    0.5|       0.0|         0.0|     null|                  0.3|        11.8|           2|        1|                 0.0|\n",
      "|    null| 2020-01-23 11:49:00|  2020-01-23 12:27:00|              null|      null|          75|         170|           null|          3.7|      22.69| 2.75|    0.0|       0.0|         0.0|     null|                  0.3|       25.74|        null|     null|                null|\n",
      "+--------+--------------------+---------------------+------------------+----------+------------+------------+---------------+-------------+-----------+-----+-------+----------+------------+---------+---------------------+------------+------------+---------+--------------------+\n",
      "only showing top 20 rows\n",
      "\n"
     ]
    }
   ],
   "source": [
    "df_green.show()"
   ]
  },
  {
   "cell_type": "code",
   "execution_count": 51,
   "metadata": {},
   "outputs": [],
   "source": [
    "# define the columns on which we should train the data \n",
    "columns = ['VendorID', 'lpep_pickup_datetime', 'PULocationID', 'DOLocationID' ,'trip_distance']\n",
    "\n",
    "duration_rdd = df_green \\\n",
    "    .select(columns) \\\n",
    "    .rdd"
   ]
  },
  {
   "cell_type": "code",
   "execution_count": 52,
   "metadata": {},
   "outputs": [
    {
     "data": {
      "text/plain": [
       "[Row(VendorID=2, lpep_pickup_datetime=datetime.datetime(2020, 1, 27, 23, 23, 13), PULocationID=260, DOLocationID=223, trip_distance=2.98),\n",
       " Row(VendorID=None, lpep_pickup_datetime=datetime.datetime(2020, 1, 30, 20, 30), PULocationID=238, DOLocationID=47, trip_distance=7.65),\n",
       " Row(VendorID=None, lpep_pickup_datetime=datetime.datetime(2020, 1, 22, 18, 13), PULocationID=82, DOLocationID=95, trip_distance=1.83),\n",
       " Row(VendorID=2, lpep_pickup_datetime=datetime.datetime(2020, 1, 4, 18, 12, 24), PULocationID=42, DOLocationID=244, trip_distance=1.65),\n",
       " Row(VendorID=2, lpep_pickup_datetime=datetime.datetime(2020, 1, 27, 11, 53), PULocationID=82, DOLocationID=197, trip_distance=6.38)]"
      ]
     },
     "execution_count": 52,
     "metadata": {},
     "output_type": "execute_result"
    }
   ],
   "source": [
    "duration_rdd.take(5)"
   ]
  },
  {
   "cell_type": "code",
   "execution_count": 57,
   "metadata": {},
   "outputs": [],
   "source": [
    "def apply_model_in_batch(partiton):\n",
    "    cnt = 0 \n",
    "    for row in partiton:\n",
    "        cnt += 1 \n",
    "    return [cnt]"
   ]
  },
  {
   "cell_type": "code",
   "execution_count": 58,
   "metadata": {},
   "outputs": [
    {
     "name": "stderr",
     "output_type": "stream",
     "text": [
      "                                                                                \r"
     ]
    },
    {
     "data": {
      "text/plain": [
       "[746744, 418184, 219219, 215981, 232941, 214666, 178150, 78632]"
      ]
     },
     "execution_count": 58,
     "metadata": {},
     "output_type": "execute_result"
    }
   ],
   "source": [
    "rdd.mapPartitions(apply_model_in_batch).collect()"
   ]
  },
  {
   "cell_type": "code",
   "execution_count": 59,
   "metadata": {},
   "outputs": [],
   "source": [
    "import pandas as pd"
   ]
  },
  {
   "cell_type": "code",
   "execution_count": 61,
   "metadata": {},
   "outputs": [
    {
     "data": {
      "text/plain": [
       "[Row(VendorID=2, lpep_pickup_datetime=datetime.datetime(2020, 1, 27, 23, 23, 13), PULocationID=260, DOLocationID=223, trip_distance=2.98),\n",
       " Row(VendorID=None, lpep_pickup_datetime=datetime.datetime(2020, 1, 30, 20, 30), PULocationID=238, DOLocationID=47, trip_distance=7.65),\n",
       " Row(VendorID=None, lpep_pickup_datetime=datetime.datetime(2020, 1, 22, 18, 13), PULocationID=82, DOLocationID=95, trip_distance=1.83),\n",
       " Row(VendorID=2, lpep_pickup_datetime=datetime.datetime(2020, 1, 4, 18, 12, 24), PULocationID=42, DOLocationID=244, trip_distance=1.65),\n",
       " Row(VendorID=2, lpep_pickup_datetime=datetime.datetime(2020, 1, 27, 11, 53), PULocationID=82, DOLocationID=197, trip_distance=6.38),\n",
       " Row(VendorID=2, lpep_pickup_datetime=datetime.datetime(2020, 1, 29, 15, 35), PULocationID=7, DOLocationID=174, trip_distance=10.4),\n",
       " Row(VendorID=None, lpep_pickup_datetime=datetime.datetime(2020, 1, 2, 11, 32), PULocationID=66, DOLocationID=217, trip_distance=2.95),\n",
       " Row(VendorID=1, lpep_pickup_datetime=datetime.datetime(2020, 1, 4, 9, 40, 17), PULocationID=42, DOLocationID=41, trip_distance=1.0),\n",
       " Row(VendorID=1, lpep_pickup_datetime=datetime.datetime(2020, 1, 18, 21, 41, 43), PULocationID=129, DOLocationID=129, trip_distance=0.4),\n",
       " Row(VendorID=2, lpep_pickup_datetime=datetime.datetime(2020, 1, 11, 18, 43, 11), PULocationID=41, DOLocationID=41, trip_distance=0.91)]"
      ]
     },
     "execution_count": 61,
     "metadata": {},
     "output_type": "execute_result"
    }
   ],
   "source": [
    "rows = duration_rdd.take(10)\n",
    "rows"
   ]
  },
  {
   "cell_type": "code",
   "execution_count": 63,
   "metadata": {},
   "outputs": [
    {
     "data": {
      "text/html": [
       "<div>\n",
       "<style scoped>\n",
       "    .dataframe tbody tr th:only-of-type {\n",
       "        vertical-align: middle;\n",
       "    }\n",
       "\n",
       "    .dataframe tbody tr th {\n",
       "        vertical-align: top;\n",
       "    }\n",
       "\n",
       "    .dataframe thead th {\n",
       "        text-align: right;\n",
       "    }\n",
       "</style>\n",
       "<table border=\"1\" class=\"dataframe\">\n",
       "  <thead>\n",
       "    <tr style=\"text-align: right;\">\n",
       "      <th></th>\n",
       "      <th>VendorID</th>\n",
       "      <th>lpep_pickup_datetime</th>\n",
       "      <th>PULocationID</th>\n",
       "      <th>DOLocationID</th>\n",
       "      <th>trip_distance</th>\n",
       "    </tr>\n",
       "  </thead>\n",
       "  <tbody>\n",
       "    <tr>\n",
       "      <th>0</th>\n",
       "      <td>2.0</td>\n",
       "      <td>2020-01-27 23:23:13</td>\n",
       "      <td>260</td>\n",
       "      <td>223</td>\n",
       "      <td>2.98</td>\n",
       "    </tr>\n",
       "    <tr>\n",
       "      <th>1</th>\n",
       "      <td>NaN</td>\n",
       "      <td>2020-01-30 20:30:00</td>\n",
       "      <td>238</td>\n",
       "      <td>47</td>\n",
       "      <td>7.65</td>\n",
       "    </tr>\n",
       "    <tr>\n",
       "      <th>2</th>\n",
       "      <td>NaN</td>\n",
       "      <td>2020-01-22 18:13:00</td>\n",
       "      <td>82</td>\n",
       "      <td>95</td>\n",
       "      <td>1.83</td>\n",
       "    </tr>\n",
       "    <tr>\n",
       "      <th>3</th>\n",
       "      <td>2.0</td>\n",
       "      <td>2020-01-04 18:12:24</td>\n",
       "      <td>42</td>\n",
       "      <td>244</td>\n",
       "      <td>1.65</td>\n",
       "    </tr>\n",
       "    <tr>\n",
       "      <th>4</th>\n",
       "      <td>2.0</td>\n",
       "      <td>2020-01-27 11:53:00</td>\n",
       "      <td>82</td>\n",
       "      <td>197</td>\n",
       "      <td>6.38</td>\n",
       "    </tr>\n",
       "    <tr>\n",
       "      <th>5</th>\n",
       "      <td>2.0</td>\n",
       "      <td>2020-01-29 15:35:00</td>\n",
       "      <td>7</td>\n",
       "      <td>174</td>\n",
       "      <td>10.40</td>\n",
       "    </tr>\n",
       "    <tr>\n",
       "      <th>6</th>\n",
       "      <td>NaN</td>\n",
       "      <td>2020-01-02 11:32:00</td>\n",
       "      <td>66</td>\n",
       "      <td>217</td>\n",
       "      <td>2.95</td>\n",
       "    </tr>\n",
       "    <tr>\n",
       "      <th>7</th>\n",
       "      <td>1.0</td>\n",
       "      <td>2020-01-04 09:40:17</td>\n",
       "      <td>42</td>\n",
       "      <td>41</td>\n",
       "      <td>1.00</td>\n",
       "    </tr>\n",
       "    <tr>\n",
       "      <th>8</th>\n",
       "      <td>1.0</td>\n",
       "      <td>2020-01-18 21:41:43</td>\n",
       "      <td>129</td>\n",
       "      <td>129</td>\n",
       "      <td>0.40</td>\n",
       "    </tr>\n",
       "    <tr>\n",
       "      <th>9</th>\n",
       "      <td>2.0</td>\n",
       "      <td>2020-01-11 18:43:11</td>\n",
       "      <td>41</td>\n",
       "      <td>41</td>\n",
       "      <td>0.91</td>\n",
       "    </tr>\n",
       "  </tbody>\n",
       "</table>\n",
       "</div>"
      ],
      "text/plain": [
       "   VendorID lpep_pickup_datetime  PULocationID  DOLocationID  trip_distance\n",
       "0       2.0  2020-01-27 23:23:13           260           223           2.98\n",
       "1       NaN  2020-01-30 20:30:00           238            47           7.65\n",
       "2       NaN  2020-01-22 18:13:00            82            95           1.83\n",
       "3       2.0  2020-01-04 18:12:24            42           244           1.65\n",
       "4       2.0  2020-01-27 11:53:00            82           197           6.38\n",
       "5       2.0  2020-01-29 15:35:00             7           174          10.40\n",
       "6       NaN  2020-01-02 11:32:00            66           217           2.95\n",
       "7       1.0  2020-01-04 09:40:17            42            41           1.00\n",
       "8       1.0  2020-01-18 21:41:43           129           129           0.40\n",
       "9       2.0  2020-01-11 18:43:11            41            41           0.91"
      ]
     },
     "execution_count": 63,
     "metadata": {},
     "output_type": "execute_result"
    }
   ],
   "source": [
    "pd.DataFrame(rows, columns=columns)"
   ]
  },
  {
   "cell_type": "code",
   "execution_count": null,
   "metadata": {},
   "outputs": [],
   "source": []
  }
 ],
 "metadata": {
  "kernelspec": {
   "display_name": "week_5",
   "language": "python",
   "name": "python3"
  },
  "language_info": {
   "codemirror_mode": {
    "name": "ipython",
    "version": 3
   },
   "file_extension": ".py",
   "mimetype": "text/x-python",
   "name": "python",
   "nbconvert_exporter": "python",
   "pygments_lexer": "ipython3",
   "version": "3.8.16"
  },
  "orig_nbformat": 4,
  "vscode": {
   "interpreter": {
    "hash": "9b4b738c1e8f3061a34d441d83abbafcd7a2ca35cea7693afa2638905f3c8a77"
   }
  }
 },
 "nbformat": 4,
 "nbformat_minor": 2
}
